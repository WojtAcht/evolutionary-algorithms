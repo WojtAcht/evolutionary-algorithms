{
  "cells": [
    {
      "cell_type": "markdown",
      "metadata": {},
      "source": [
        "# Lab 3 - Genetic Algorithm"
      ]
    },
    {
      "cell_type": "markdown",
      "metadata": {},
      "source": [
        "## Required dependencies"
      ]
    },
    {
      "cell_type": "code",
      "execution_count": null,
      "metadata": {},
      "outputs": [],
      "source": [
        "%pip install jmetalpy"
      ]
    },
    {
      "cell_type": "code",
      "execution_count": 55,
      "metadata": {},
      "outputs": [],
      "source": [
        "from scipy.optimize import minimize\n",
        "import numpy as np\n",
        "from jmetal.algorithm.singleobjective.genetic_algorithm import GeneticAlgorithm\n",
        "from jmetal.operator import BinaryTournamentSelection, SBXCrossover, SimpleRandomMutation\n",
        "from jmetal.util.termination_criterion import StoppingByEvaluations\n",
        "from jmetal.core.problem import FloatProblem\n",
        "from jmetal.core.solution import FloatSolution\n",
        "import plotly.graph_objects as go\n",
        "from typing import Callable"
      ]
    },
    {
      "cell_type": "code",
      "execution_count": 56,
      "metadata": {},
      "outputs": [],
      "source": [
        "import logging\n",
        "\n",
        "logger = logging.getLogger('jmetal.core.algorithm')\n",
        "logger.setLevel(logging.INFO)"
      ]
    },
    {
      "cell_type": "code",
      "execution_count": 57,
      "metadata": {},
      "outputs": [],
      "source": [
        "def plot_population_with_contour(\n",
        "    population: np.ndarray,\n",
        "    problem: FloatProblem,\n",
        "    fitness_function: Callable,\n",
        "    number_of_points: int = 100,\n",
        "    number_of_contours: int = 20,\n",
        ") -> None:\n",
        "    x = np.linspace(problem.lower_bound[0], problem.upper_bound[0], number_of_points)\n",
        "    y = np.linspace(problem.lower_bound[1], problem.upper_bound[1], number_of_points)\n",
        "    x_mesh, y_mesh = np.meshgrid(x, y)\n",
        "    z_mesh = fitness_function(x_mesh, y_mesh)\n",
        "    fig = go.Figure(\n",
        "        data=[\n",
        "            go.Contour(\n",
        "                z=z_mesh.reshape(-1),\n",
        "                x=x_mesh.reshape(-1),\n",
        "                y=y_mesh.reshape(-1),\n",
        "                colorscale=\"Viridis\",\n",
        "                contours=dict(\n",
        "                    start=np.min(z_mesh),\n",
        "                    end=np.max(z_mesh),\n",
        "                    size=(np.max(z_mesh) - np.min(z_mesh)) / number_of_contours,\n",
        "                ),\n",
        "                colorbar=dict(title=\"Ackley function value\"),\n",
        "            )\n",
        "        ]\n",
        "    )\n",
        "    fig.add_trace(\n",
        "        go.Scatter(\n",
        "            x=population[:, 0],\n",
        "            y=population[:, 1],\n",
        "            mode=\"markers\",\n",
        "            marker=dict(color=\"red\"),\n",
        "            name=\"Last Population\",\n",
        "        )\n",
        "    )\n",
        "\n",
        "    fig.update_layout(\n",
        "        title=\"Contour plot of the Ackley function for the last population\",\n",
        "        showlegend=False,\n",
        "        width=800,\n",
        "        height=800,\n",
        "    )\n",
        "\n",
        "    fig.show()"
      ]
    },
    {
      "cell_type": "markdown",
      "metadata": {},
      "source": [
        "### Ackley function"
      ]
    },
    {
      "cell_type": "markdown",
      "metadata": {},
      "source": [
        "![Ackley](https://www.sfu.ca/~ssurjano/ackley.png)"
      ]
    },
    {
      "cell_type": "markdown",
      "metadata": {},
      "source": [
        "$$ f(\\mathbf{x}) = -a \\exp\\left(-b \\sqrt{\\frac{1}{d} \\sum_{i=1}^{d} x_i^2}\\right) - \\exp\\left(\\frac{1}{d} \\sum_{i=1}^{d} \\cos(c x_i)\\right) + a + \\exp(1) $$"
      ]
    },
    {
      "cell_type": "code",
      "execution_count": 58,
      "metadata": {},
      "outputs": [],
      "source": [
        "def ackley(solution: np.ndarray) -> float:\n",
        "    a = 20\n",
        "    b = 0.2\n",
        "    c = 2 * np.pi\n",
        "    d = solution.shape[0]\n",
        "    return (\n",
        "        -a * np.exp(-b * np.sqrt(1 / d * np.sum(np.power(solution, 2))))\n",
        "        - np.exp(1 / d * np.sum(np.cos(c * solution)))\n",
        "        + a\n",
        "        + np.e\n",
        "    )\n",
        "\n",
        "\n",
        "def ackley_2d(x: np.ndarray, y: np.ndarray) -> list[float]:\n",
        "    values = [ackley(np.array([x_, y_])) for x_, y_ in zip(x.flatten(), y.flatten())]\n",
        "    return np.asarray(values).reshape(x.shape)"
      ]
    },
    {
      "cell_type": "markdown",
      "metadata": {},
      "source": [
        "Your task is to finalize the implementation of the Ackley function, utilizing the function that is defined above."
      ]
    },
    {
      "cell_type": "code",
      "execution_count": 11,
      "metadata": {},
      "outputs": [],
      "source": [
        "class Ackley(FloatProblem):\n",
        "    def __init__(self, number_of_variables: int):\n",
        "        super(Ackley, self).__init__()\n",
        "        number_of_variables = number_of_variables\n",
        "\n",
        "        self.obj_directions = [self.MINIMIZE]\n",
        "        self.obj_labels = [\"f(x)\"]\n",
        "\n",
        "        self.lower_bound = [-32.768 for _ in range(number_of_variables)]\n",
        "        self.upper_bound = [32.768 for _ in range(number_of_variables)]\n",
        "\n",
        "        FloatSolution.lower_bound = self.lower_bound\n",
        "        FloatSolution.upper_bound = self.upper_bound\n",
        "\n",
        "    def number_of_objectives(self) -> int:\n",
        "        return 1\n",
        "\n",
        "    def number_of_constraints(self) -> int:\n",
        "        return 0\n",
        "\n",
        "    # TODO: Implement this method\n",
        "    # Please refer to the https://github.com/jMetal/jMetalPy/blob/main/jmetal/problem/singleobjective/unconstrained.py for further guidance.\n",
        "    def evaluate(self, solution: FloatSolution) -> FloatSolution:\n",
        "        raise NotImplementedError()\n",
        "\n",
        "    def name(self) -> str:\n",
        "        return \"Ackley\""
      ]
    },
    {
      "cell_type": "markdown",
      "metadata": {},
      "source": [
        "Run genetic algorithm for Ackley 2D."
      ]
    },
    {
      "cell_type": "code",
      "execution_count": null,
      "metadata": {},
      "outputs": [],
      "source": [
        "d = 2\n",
        "problem = Ackley(d)\n",
        "\n",
        "MAX_EVALUATIONS = 1000\n",
        "\n",
        "algorithm = GeneticAlgorithm(\n",
        "    problem=problem,\n",
        "    population_size=50,\n",
        "    offspring_population_size=100,\n",
        "    mutation=SimpleRandomMutation(0.1),\n",
        "    crossover=SBXCrossover(0.95),\n",
        "    selection=BinaryTournamentSelection(),\n",
        "    termination_criterion=StoppingByEvaluations(max_evaluations=MAX_EVALUATIONS)\n",
        ")\n",
        "\n",
        "algorithm.run()\n",
        "result = algorithm.result()\n",
        "\n",
        "print('Algorithm: {}'.format(algorithm.name))\n",
        "print('Problem: {}'.format(problem.name()))\n",
        "print('Solution: {}'.format(result.variables))\n",
        "print('Fitness: {}'.format(result.objectives[0]))\n",
        "print('Computing time: {}'.format(algorithm.total_computing_time))"
      ]
    },
    {
      "cell_type": "code",
      "execution_count": null,
      "metadata": {},
      "outputs": [],
      "source": [
        "population = np.asarray([solution.variables for solution in algorithm.solutions])\n",
        "\n",
        "plot_population_with_contour(\n",
        "    population=population,\n",
        "    problem=problem,\n",
        "    fitness_function=ackley_2d,\n",
        "    number_of_points=100,\n",
        "    number_of_contours=20,\n",
        ")"
      ]
    },
    {
      "cell_type": "markdown",
      "metadata": {},
      "source": [
        "### Multi-start"
      ]
    },
    {
      "cell_type": "markdown",
      "metadata": {},
      "source": [
        "Multi-start is a technique used in optimization to improve the chances of finding the global minimum of a function. The idea behind multi-start is to run a local optimization algorithm multiple times, each time starting from a different initial point in the search space. By doing this, we increase the chances of finding the global minimum, as each run of the local optimization algorithm may converge to a different local minimum.\n",
        "\n",
        "The multi-start method works as follows:\n",
        "\n",
        "1. Select a random starting point (e.g. with uniform distribution over domain).\n",
        "2. For selected starting point, run the local optimization algorithm until convergence.\n",
        "3. Record the best solution found across all runs of the local optimization algorithm.\n",
        "4. Repeat 1-3 `N` times (or repeat until the budget is reached).\n",
        "\n",
        "We use [L-BFGS-B](https://docs.scipy.org/doc/scipy/reference/optimize.minimize-lbfgsb.html) as a local method."
      ]
    },
    {
      "cell_type": "markdown",
      "metadata": {},
      "source": [
        "Our objective is to conduct a comparative analysis between a multi-start method and a genetic algorithm, with the aim to demonstrate that genetic algorithms can offer superior efficiency for certain problem types."
      ]
    },
    {
      "cell_type": "code",
      "execution_count": 50,
      "metadata": {},
      "outputs": [],
      "source": [
        "ackley_bounds = [(-32.768, 32.768)] * d"
      ]
    },
    {
      "cell_type": "markdown",
      "metadata": {},
      "source": [
        "`scipy.optimize.minimize` requires slightly different parameters than `jMetalPy`."
      ]
    },
    {
      "cell_type": "code",
      "execution_count": null,
      "metadata": {},
      "outputs": [],
      "source": [
        "x0 = [1,2]\n",
        "res = minimize(ackley, x0, method='L-BFGS-B', bounds=ackley_bounds)\n",
        "res"
      ]
    },
    {
      "cell_type": "markdown",
      "metadata": {},
      "source": [
        "Complete the implementation - generate random starting point from the domain."
      ]
    },
    {
      "cell_type": "code",
      "execution_count": 52,
      "metadata": {},
      "outputs": [],
      "source": [
        "def multi_start_optimization(func, bounds: list[tuple[float, float]], max_evaluations: int, max_iter: int = 100):\n",
        "    \"\"\"\n",
        "    A multi-start optimization algorithm using scipy.optimize.minimize with the L-BFGS-B method.\n",
        "\n",
        "    :param func: The objective function to minimize.\n",
        "    :param bounds: Bounds for variables as a list of tuples.\n",
        "    :param n_starts: Number of starting points for the optimization.\n",
        "    :return: A list of results from each optimization start.\n",
        "    \"\"\"\n",
        "    results = []\n",
        "    number_of_evaluations = 0\n",
        "    while number_of_evaluations < max_evaluations:\n",
        "        # Generate a random starting point within the bounds.\n",
        "        # Use uniform distribution. \n",
        "        raise NotImplementedError()\n",
        "        x0 = ...\n",
        "\n",
        "        # Perform the optimization\n",
        "        # Run L-BGFBS-B for a predefined number of iterations (max_iter).\n",
        "        result = ...\n",
        "        number_of_evaluations += result.nfev\n",
        "        results.append(result)\n",
        "\n",
        "    best_result = min(results, key=lambda result: result.fun)\n",
        "    return best_result.x, best_result.fun, number_of_evaluations"
      ]
    },
    {
      "cell_type": "code",
      "execution_count": null,
      "metadata": {},
      "outputs": [],
      "source": [
        "x, fitness_value, number_of_evaluations = multi_start_optimization(\n",
        "    ackley, ackley_bounds, MAX_EVALUATIONS\n",
        ")\n",
        "print(f\"Best solution: {x}\")\n",
        "print(f\"Fitness value: {fitness_value}\")\n",
        "print(f\"Number of evaluations: {number_of_evaluations}\")"
      ]
    },
    {
      "cell_type": "markdown",
      "metadata": {},
      "source": [
        "Exercise 1.\n",
        "\n",
        "Compare genetic algorithm with multi start. For different values of `MAX_EVALUATIONS` (e.g. 100, 500, 1000, 5000, 10000) run both methods 20 times and use boxplots to compare results (you can create boxplots for best fitness values)."
      ]
    },
    {
      "cell_type": "markdown",
      "metadata": {},
      "source": [
        "Exercise 2.\n",
        "\n",
        "Implement a hybrid optimization technique coupling an evolutionary and a local search algorithm. Run genetic algorithm with adjusted `MAX_EVALUATIONS` (e.g. 9900 instead of 10000) and then run local method (L-BFGS) for the best solution. "
      ]
    },
    {
      "cell_type": "markdown",
      "metadata": {},
      "source": [
        "Exercise 3.\n",
        "\n",
        "Implement a normal mutation.\n",
        "\n",
        "$$ x' = x + \\mathcal{N}(0, \\sigma) $$\n",
        "$$ \\sigma = \\frac{upper - lower}{6} $$\n",
        "\n",
        "Please make sure that $x' \\in [lower, upper]$. Run genetic algorithm using normal mutation."
      ]
    },
    {
      "cell_type": "markdown",
      "metadata": {},
      "source": [
        "Example of custom mutation:"
      ]
    },
    {
      "cell_type": "code",
      "execution_count": 54,
      "metadata": {},
      "outputs": [],
      "source": [
        "import random\n",
        "from jmetal.core.operator import Mutation\n",
        "from jmetal.core.solution import FloatSolution\n",
        "\n",
        "class StrangeMutation(Mutation[FloatSolution]):\n",
        "\n",
        "    def __init__(self, probability: float):\n",
        "        super(StrangeMutation, self).__init__(probability=probability)\n",
        "\n",
        "    def execute(self, solution: FloatSolution) -> FloatSolution:\n",
        "        assert type(solution) is FloatSolution\n",
        "\n",
        "        for i in range(solution.number_of_variables):\n",
        "            rand = random.random()\n",
        "            if rand <= self.probability:\n",
        "                solution.variables[i] = solution.variables[i] * random.random()\n",
        "        return solution\n",
        "\n",
        "    def get_name(self):\n",
        "        return 'Strange random mutation'"
      ]
    },
    {
      "cell_type": "markdown",
      "metadata": {},
      "source": [
        "Exercise 4.\n",
        "\n",
        "You can use any methods you know. Try to obtain the best fitness value for Ackley 10D."
      ]
    }
  ],
  "metadata": {
    "colab": {
      "name": "Evolutionary.ipynb",
      "provenance": []
    },
    "kernelspec": {
      "display_name": "Python 3",
      "name": "python3"
    },
    "language_info": {
      "codemirror_mode": {
        "name": "ipython",
        "version": 3
      },
      "file_extension": ".py",
      "mimetype": "text/x-python",
      "name": "python",
      "nbconvert_exporter": "python",
      "pygments_lexer": "ipython3",
      "version": "3.10.7"
    }
  },
  "nbformat": 4,
  "nbformat_minor": 0
}
