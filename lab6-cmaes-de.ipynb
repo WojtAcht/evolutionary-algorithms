{
 "cells": [
  {
   "attachments": {},
   "cell_type": "markdown",
   "metadata": {},
   "source": [
    "### Introduction\n",
    "\n",
    "In this laboratory we will use tools and test functions provided by a library pymoo. It is a well recognized optimization library created specifically for multi-objective problems. However, it does contain a wide range of single-objective metaheuristics more than sufficient for this laboratory.\n",
    "\n",
    "For documentation refer to https://pymoo.org/\n",
    "\n",
    "### CMA-ES introduction\n",
    "\n",
    "A robust guide to CMA-ES is available at https://doi.org/10.48550/arXiv.1604.00772\n",
    "\n",
    "Pymoo does not provide its own implementation of CMA-ES instead it calls the pycma library which is mantained by the author of the algorithm Nikolaus Hansen https://pypi.org/project/cma/. Other notable implementation of this algorithm is available at https://pypi.org/project/cmaes/ library. You can look up the visualizations provided in its documentation to get a better grasp on how different variants of the algorithm work."
   ]
  },
  {
   "cell_type": "code",
   "execution_count": 2,
   "metadata": {},
   "outputs": [],
   "source": [
    "import matplotlib.pyplot as plt\n",
    "import numpy as np\n",
    "\n",
    "from pymoo.algorithms.soo.nonconvex.cmaes import CMAES\n",
    "from pymoo.algorithms.soo.nonconvex.de import DE\n",
    "from pymoo.algorithms.soo.nonconvex.ga import GA\n",
    "from pymoo.algorithms.soo.nonconvex.pso import PSO\n",
    "from pymoo.core.callback import Callback\n",
    "from pymoo.operators.sampling.lhs import LHS\n",
    "from pymoo.optimize import minimize\n",
    "from pymoo.problems import get_problem\n",
    "from pymoo.termination import get_termination\n",
    "from pymoo.visualization.fitness_landscape import FitnessLandscape"
   ]
  },
  {
   "cell_type": "code",
   "execution_count": 4,
   "metadata": {},
   "outputs": [
    {
     "data": {
      "text/plain": [
       "34.785054261852174"
      ]
     },
     "execution_count": 4,
     "metadata": {},
     "output_type": "execute_result"
    }
   ],
   "source": [
    "np.linalg.norm([-1, -4, -6, -1, -30, -16])"
   ]
  },
  {
   "cell_type": "code",
   "execution_count": null,
   "metadata": {},
   "outputs": [],
   "source": [
    "sphere = get_problem(\"sphere\")\n",
    "\n",
    "cma = CMAES(x0=np.random.random(sphere.n_var))\n",
    "\n",
    "res = minimize(sphere,\n",
    "               cma)\n",
    "\n",
    "print(f\"Best solution found: \\nX = {res.X}\\nF = {res.F}\\nCV= {res.CV}\")"
   ]
  },
  {
   "attachments": {},
   "cell_type": "markdown",
   "metadata": {},
   "source": [
    "### Excercise 1\n",
    "Test CMA-ES on a 20-dimensional Rastrigin function. Use Callback interface to get best function values for each consecutive generation and plot them on a line plot."
   ]
  },
  {
   "cell_type": "code",
   "execution_count": null,
   "metadata": {},
   "outputs": [],
   "source": []
  },
  {
   "attachments": {},
   "cell_type": "markdown",
   "metadata": {},
   "source": [
    "### Excercise 2\n",
    "Find out how to run BIPOP-CMA-ES using a pymoo library. Then compare it to the standard CMA-ES using the same criteria as in previous task."
   ]
  },
  {
   "cell_type": "code",
   "execution_count": null,
   "metadata": {},
   "outputs": [],
   "source": []
  },
  {
   "attachments": {},
   "cell_type": "markdown",
   "metadata": {},
   "source": [
    "### Differential Evolution\n",
    "\n",
    "A decent open access article is available on wikipedia: https://en.wikipedia.org/wiki/Differential_evolution while a robust review and explanation of different variants up to 2010 is available at https://www.researchgate.net/publication/220380793_Differential_Evolution_A_Survey_of_the_State-of-the-Art\n",
    "\n",
    "Implementations are among others available at SciPy https://docs.scipy.org/doc/scipy/reference/optimize.html and pymoo https://pymoo.org/. Various more advanced variants can be found at small libraries created by researchers.\n",
    "\n",
    "#### Possible variants construction and parameterization:\n",
    "##### Controlling mutation:\n",
    "best/rand/current-to-best/rand-to-best -> which vectors are compared to create a donor vector\n",
    "\n",
    "1/2 -> how many vector differences are used to create a donor vector\n",
    "\n",
    "##### Controlling crossover:\n",
    "bin/exp -> binomial crossover samples between a value from candidate or original individual separately for every dimension. Exponential crossover samples a cutting point after which a number of values from candidate solutions are chosen\n",
    "\n",
    "##### Parameters:\n",
    "population size, F, CR -> F is responsible for scaling a difference between vectors during mutation. Bigger F makes the algorithm more volatile. CR is a probability factor which has impact on crossover. Regardles of variant, smaller CR means that more of candidate vector is used while higher CR responds to more of an original vector remaining."
   ]
  },
  {
   "cell_type": "code",
   "execution_count": null,
   "metadata": {},
   "outputs": [],
   "source": [
    "problem = get_problem(\"ackley\", n_var=10)\n",
    "\n",
    "\n",
    "algorithm = DE(\n",
    "    variant=\"DE/rand/1/bin\",\n",
    "    sampling=LHS(),\n",
    "    pop_size=100,\n",
    "    F=0.5,\n",
    "    CR=0.2\n",
    ")\n",
    "\n",
    "res = minimize(problem,\n",
    "               algorithm,\n",
    "               seed=1,\n",
    "               verbose=False)\n",
    "\n",
    "print(\"Best solution found: \\nX = %s\\nF = %s\" % (res.X, res.F))"
   ]
  },
  {
   "attachments": {},
   "cell_type": "markdown",
   "metadata": {},
   "source": [
    "### Excercise 3\n",
    "Choose a test problem and termination criteria. Test Differential Evolution with a few combinations of parameters or variants by reruning the algorithm 10 times for each setup. Compare mean best results using boxplots."
   ]
  },
  {
   "cell_type": "code",
   "execution_count": null,
   "metadata": {},
   "outputs": [],
   "source": []
  },
  {
   "attachments": {},
   "cell_type": "markdown",
   "metadata": {},
   "source": [
    "### Excercise 4\n",
    "Run the algorithm with a population of 20 individuals on a 2-dimensional Sphere function and visualize a few consecutive generations. Use FitnessLandscape feature of pymoo (_type=\"contour\") to visualize the space in which the individuals exist."
   ]
  },
  {
   "attachments": {},
   "cell_type": "markdown",
   "metadata": {},
   "source": [
    "############### HINT ###############\n",
    "\n",
    "<details>\n",
    "  <summary>Plotting on top of fitness landscape in this specific library is not trivial. If you encounter problems try steps below:</summary>\n",
    "  \n",
    "    1. create fitness class\n",
    "    2. call init_figure method\n",
    "    3. now you can access ax property and operate on it\n",
    "    4. call do method to show the plot\n",
    "</details>"
   ]
  },
  {
   "cell_type": "code",
   "execution_count": null,
   "metadata": {},
   "outputs": [],
   "source": []
  },
  {
   "attachments": {},
   "cell_type": "markdown",
   "metadata": {},
   "source": [
    "### Excercise 5 - benchmark\n",
    "Compare GA, PSO, CMA-ES and DE on three 10-dimensional problems below. Display mean best solution per generations (10 runs average) of each algorithm on shared line plot. For each problem parameterize the algorithms according to your own intuition. Choose evaluation-budget based termination criterion. In some cases logarythmic scale will be better for results comparison."
   ]
  },
  {
   "cell_type": "code",
   "execution_count": null,
   "metadata": {},
   "outputs": [],
   "source": [
    "rosenbrock_10 = get_problem(\"Rosenbrock\", n_var=10)\n",
    "ackley_10 = get_problem(\"Ackley\", n_var=10)\n",
    "schwefel_10 = get_problem(\"Schwefel\", n_var=10)\n",
    "\n",
    "termination = get_termination(\"n_eval\", 1000)"
   ]
  },
  {
   "cell_type": "code",
   "execution_count": null,
   "metadata": {},
   "outputs": [],
   "source": [
    "rosenbrock_visual = get_problem(\"Rosenbrock\", n_var=2)\n",
    "FitnessLandscape(rosenbrock_visual, angle=(45, 45), _type=\"surface\").show()"
   ]
  },
  {
   "cell_type": "code",
   "execution_count": null,
   "metadata": {},
   "outputs": [],
   "source": []
  },
  {
   "cell_type": "code",
   "execution_count": null,
   "metadata": {},
   "outputs": [],
   "source": [
    "ackley_visual = get_problem(\"Ackley\", n_var=2)\n",
    "FitnessLandscape(ackley_visual, angle=(45, 45), _type=\"surface\").show()\n",
    "# Uncomment for alternative visualization:\n",
    "# FitnessLandscape(ackley_visual, _type=\"contour\", colorbar=True).show()"
   ]
  },
  {
   "cell_type": "code",
   "execution_count": null,
   "metadata": {},
   "outputs": [],
   "source": []
  },
  {
   "cell_type": "code",
   "execution_count": null,
   "metadata": {},
   "outputs": [],
   "source": [
    "schwefel_visual = get_problem(\"Schwefel\", n_var=2)\n",
    "FitnessLandscape(schwefel_visual, angle=(45, 45), _type=\"surface\").show()\n",
    "# Uncomment for alternative visualization:\n",
    "# FitnessLandscape(schwefel_visual, _type=\"contour\", colorbar=True).show()"
   ]
  },
  {
   "cell_type": "code",
   "execution_count": null,
   "metadata": {},
   "outputs": [],
   "source": []
  },
  {
   "cell_type": "markdown",
   "metadata": {},
   "source": [
    "### Excercise 5.1 - thorough benchmark\n",
    "Choose a termination criterion based on target fuction value and compare the same algorithms on the same test instances. Select two function value targets pew function instance based on your knowledge from previous task.\n",
    "\n",
    "#### What if an algorithm would never reach a target stopping value?\n",
    "You can pass a tuple of termination criterions. The second criterion can be based on evaluation budget and serve as an upper bound. As for the performance comparison, use the Expected Running Time (ERT) metric which is calculated as follows:<br/>\n",
    "ERT(function) = RT_s + (1 - p)/p * RT_us<br/>\n",
    "where:\n",
    " - RT_s - average number of evaluations for succesful runs\n",
    " - RT_us - average number of evaluations for unsuccesful runs (in this case the upper bound)\n",
    "  - p - fraction of succesful runs"
   ]
  },
  {
   "cell_type": "code",
   "execution_count": null,
   "metadata": {},
   "outputs": [],
   "source": []
  }
 ],
 "metadata": {
  "kernelspec": {
   "display_name": "evolenv",
   "language": "python",
   "name": "python3"
  },
  "language_info": {
   "codemirror_mode": {
    "name": "ipython",
    "version": 3
   },
   "file_extension": ".py",
   "mimetype": "text/x-python",
   "name": "python",
   "nbconvert_exporter": "python",
   "pygments_lexer": "ipython3",
   "version": "3.11.5"
  },
  "orig_nbformat": 4,
  "vscode": {
   "interpreter": {
    "hash": "52e6be20c89db51c65a1657f10bb3ccc9732016b98886ec0e8bd622e3365a6c0"
   }
  }
 },
 "nbformat": 4,
 "nbformat_minor": 2
}
